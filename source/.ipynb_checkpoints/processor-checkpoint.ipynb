{
 "cells": [
  {
   "cell_type": "code",
   "execution_count": 1,
   "metadata": {},
   "outputs": [],
   "source": [
    "# Helper functions to convert latlng\n",
    "# from https://stackoverflow.com/questions/33997361/how-to-convert-degree-minute-second-to-degree-decimal\n",
    "\n",
    "import re\n",
    "\n",
    "def dms2dd(direction, degrees, minutes, seconds):\n",
    "    dd = float(degrees) + float(minutes)/60 + float(seconds)/(60*60);\n",
    "    if direction == 'W' or direction == 'S':\n",
    "        dd *= -1\n",
    "    return dd;\n",
    "\n",
    "def dd2dms(deg):\n",
    "    d = int(deg)\n",
    "    md = abs(deg - d) * 60\n",
    "    m = int(md)\n",
    "    sd = (md - m) * 60\n",
    "    return [d, m, sd]\n",
    "\n",
    "def parse_dms(dms):\n",
    "    parts = re.split('[º°\\'\",]+', dms)\n",
    "    lat = dms2dd(parts[0], parts[1], parts[2], parts[3])\n",
    "\n",
    "    return (lat)"
   ]
  },
  {
   "cell_type": "code",
   "execution_count": 10,
   "metadata": {},
   "outputs": [],
   "source": [
    "import csv, re\n",
    "\n",
    "def parse_csv (infile, outfile):\n",
    "\n",
    "    with open(infile) as csvfile:\n",
    "        reader = csv.reader(csvfile)\n",
    "\n",
    "        next(reader, None)\n",
    "\n",
    "        outlist = []\n",
    "\n",
    "        for row in reader:\n",
    "            if row[0].isnumeric():\n",
    "                buffer = {\n",
    "                    \"name_indo\": \"\",\n",
    "                    \"name_hanzi\": \"\",\n",
    "                    \"name_pinyin\": \"\",\n",
    "                    \"neighbourhood\": \"\",\n",
    "                    \"gps_lat\": \"\",\n",
    "                    \"gps_lon\": \"\",\n",
    "                    \"address\": \"\"\n",
    "                }\n",
    "                \n",
    "                buffer[\"name_indo\"] = row[1].strip()\n",
    "                buffer[\"name_hanzi\"] = row[2].strip()\n",
    "                lat = row[3].strip() + \",\" + row[4].strip() + \".\" + row[5].strip()\n",
    "                lat = lat.replace(\" \", \",\")\n",
    "                lat = lat.replace(\",,\", \",\")\n",
    "\n",
    "                buffer[\"gps_lat\"] = parse_dms(lat)\n",
    "\n",
    "                address = row[6]\n",
    "\n",
    "            else:\n",
    "                buffer[\"neighbourhood\"] = row[1].strip()\n",
    "                buffer[\"name_pinyin\"] = row[2].strip()\n",
    "                \n",
    "                lon = row[3].strip() + \",\" + row[4].strip() + \".\" + row[5].strip()\n",
    "                lon = lon.replace(\" \", \",\")\n",
    "                lon = lon.replace(\",,\", \",\")\n",
    "\n",
    "                buffer[\"gps_lon\"] = parse_dms(lon)\n",
    "\n",
    "                address = address.strip() + \", \"+ row[6].strip()\n",
    "                buffer[\"address\"] = address\n",
    "\n",
    "                outlist.append(buffer)\n",
    "\n",
    "        keys = outlist[0].keys()\n",
    "        with open(outfile, 'w', newline='', encoding='utf-8')  as output_file:\n",
    "            dict_writer = csv.DictWriter(output_file, keys)\n",
    "            dict_writer.writeheader()\n",
    "            dict_writer.writerows(outlist)"
   ]
  },
  {
   "cell_type": "code",
   "execution_count": 11,
   "metadata": {},
   "outputs": [],
   "source": [
    "parse_csv(\"raw_barat.csv\", \"1_West.csv\")\n",
    "parse_csv(\"raw_tengah.csv\", \"1_Central.csv\")\n",
    "parse_csv(\"raw_selatan.csv\", \"1_South.csv\")\n",
    "parse_csv(\"raw_timur.csv\", \"1_East.csv\")\n",
    "parse_csv(\"raw_utara.csv\", \"1_North.csv\")"
   ]
  },
  {
   "cell_type": "code",
   "execution_count": 28,
   "metadata": {},
   "outputs": [],
   "source": [
    "def csv_to_geojson(infile, outfile):\n",
    "\n",
    "    import csv\n",
    "    from geojson import Feature, FeatureCollection, Point\n",
    "\n",
    "    features = []\n",
    "    with open(infile, newline='') as csvfile:\n",
    "        \n",
    "        reader = csv.reader(csvfile, delimiter=',')\n",
    "        next(reader, None)\n",
    "        \n",
    "        for name_indo,name_hanzi,name_pinyin,neighbourhood,gps_lat,gps_lon,address in reader:\n",
    "            latitude, longitude = map(float, (gps_lat, gps_lon))\n",
    "            \n",
    "            features.append({\n",
    "                Feature(\n",
    "                    geometry = Point((longitude, latitude)),\n",
    "                    properties = {\n",
    "                        'name_indo': name_indo,\n",
    "                        'name_hanzi': name_hanzi,\n",
    "                        'name_pinyin': name_pinyin,\n",
    "                        'neighbourhood': neighbourhood,\n",
    "                        'gps_lat': gps_lat,\n",
    "                        'gps_lon': gps_lon,\n",
    "                        'address': address,\n",
    "                    }\n",
    "                )\n",
    "            })"
   ]
  },
  {
   "cell_type": "code",
   "execution_count": 29,
   "metadata": {},
   "outputs": [
    {
     "ename": "NameError",
     "evalue": "name 'weather' is not defined",
     "output_type": "error",
     "traceback": [
      "\u001b[0;31m---------------------------------------------------------------------------\u001b[0m",
      "\u001b[0;31mNameError\u001b[0m                                 Traceback (most recent call last)",
      "\u001b[0;32m<ipython-input-29-fde41f2f71c3>\u001b[0m in \u001b[0;36m<module>\u001b[0;34m\u001b[0m\n\u001b[0;32m----> 1\u001b[0;31m \u001b[0mcsv_to_geojson\u001b[0m\u001b[0;34m(\u001b[0m\u001b[0;34m\"1_North.csv\"\u001b[0m\u001b[0;34m,\u001b[0m \u001b[0;34m\"2_North.geojson\"\u001b[0m\u001b[0;34m)\u001b[0m\u001b[0;34m\u001b[0m\u001b[0;34m\u001b[0m\u001b[0m\n\u001b[0m",
      "\u001b[0;32m<ipython-input-28-51038c0dc7e7>\u001b[0m in \u001b[0;36mcsv_to_geojson\u001b[0;34m(infile, outfile)\u001b[0m\n\u001b[1;32m     17\u001b[0m                     \u001b[0mgeometry\u001b[0m \u001b[0;34m=\u001b[0m \u001b[0mPoint\u001b[0m\u001b[0;34m(\u001b[0m\u001b[0;34m(\u001b[0m\u001b[0mlongitude\u001b[0m\u001b[0;34m,\u001b[0m \u001b[0mlatitude\u001b[0m\u001b[0;34m)\u001b[0m\u001b[0;34m)\u001b[0m\u001b[0;34m,\u001b[0m\u001b[0;34m\u001b[0m\u001b[0;34m\u001b[0m\u001b[0m\n\u001b[1;32m     18\u001b[0m                     properties = {\n\u001b[0;32m---> 19\u001b[0;31m                         \u001b[0;34m'weather'\u001b[0m\u001b[0;34m:\u001b[0m \u001b[0mweather\u001b[0m\u001b[0;34m,\u001b[0m\u001b[0;34m\u001b[0m\u001b[0;34m\u001b[0m\u001b[0m\n\u001b[0m\u001b[1;32m     20\u001b[0m                         \u001b[0;34m'temp'\u001b[0m\u001b[0;34m:\u001b[0m \u001b[0mtemp\u001b[0m\u001b[0;34m\u001b[0m\u001b[0;34m\u001b[0m\u001b[0m\n\u001b[1;32m     21\u001b[0m                     }\n",
      "\u001b[0;31mNameError\u001b[0m: name 'weather' is not defined"
     ]
    }
   ],
   "source": [
    "csv_to_geojson(\"1_North.csv\", \"2_North.geojson\")"
   ]
  },
  {
   "cell_type": "code",
   "execution_count": null,
   "metadata": {},
   "outputs": [],
   "source": []
  }
 ],
 "metadata": {
  "kernelspec": {
   "display_name": "Python 3",
   "language": "python",
   "name": "python3"
  },
  "language_info": {
   "codemirror_mode": {
    "name": "ipython",
    "version": 3
   },
   "file_extension": ".py",
   "mimetype": "text/x-python",
   "name": "python",
   "nbconvert_exporter": "python",
   "pygments_lexer": "ipython3",
   "version": "3.7.7"
  }
 },
 "nbformat": 4,
 "nbformat_minor": 4
}
