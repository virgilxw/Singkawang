{
 "cells": [
  {
   "cell_type": "code",
   "execution_count": 2,
   "metadata": {},
   "outputs": [
    {
     "name": "stdout",
     "output_type": "stream",
     "text": [
      "./temples/001.html Exists: False\n",
      "./temples/002.html Exists: False\n",
      "./temples/003.html Exists: False\n",
      "./temples/004.html Exists: False\n",
      "./temples/005.html Exists: False\n",
      "./temples/006.html Exists: False\n",
      "./temples/007.html Exists: False\n",
      "./temples/008.html Exists: False\n",
      "./temples/009.html Exists: False\n",
      "./temples/010.html Exists: False\n",
      "./temples/011.html Exists: False\n",
      "./temples/012.html Exists: False\n",
      "./temples/013.html Exists: False\n",
      "./temples/014.html Exists: False\n",
      "./temples/015.html Exists: False\n",
      "./temples/016.html Exists: False\n",
      "./temples/017.html Exists: False\n",
      "./temples/018.html Exists: False\n",
      "./temples/019.html Exists: False\n",
      "./temples/020.html Exists: False\n",
      "./temples/021.html Exists: False\n",
      "./temples/022.html Exists: False\n",
      "./temples/023.html Exists: False\n",
      "./temples/024.html Exists: False\n",
      "./temples/025.html Exists: False\n",
      "./temples/026.html Exists: False\n",
      "./temples/027.html Exists: False\n",
      "./temples/028.html Exists: False\n",
      "./temples/029.html Exists: False\n",
      "./temples/030.html Exists: False\n",
      "./temples/031.html Exists: False\n",
      "./temples/032.html Exists: False\n",
      "./temples/033.html Exists: False\n",
      "./temples/034.html Exists: False\n",
      "./temples/035.html Exists: False\n",
      "./temples/036.html Exists: False\n",
      "./temples/037.html Exists: False\n",
      "./temples/038.html Exists: False\n",
      "./temples/039.html Exists: False\n",
      "./temples/040.html Exists: False\n",
      "./temples/041.html Exists: False\n",
      "./temples/042.html Exists: False\n",
      "./temples/043.html Exists: False\n",
      "./temples/044.html Exists: False\n",
      "./temples/045.html Exists: False\n",
      "./temples/046.html Exists: False\n",
      "./temples/047.html Exists: False\n",
      "./temples/048.html Exists: False\n",
      "./temples/049.html Exists: False\n",
      "./temples/050.html Exists: False\n",
      "./temples/051.html Exists: False\n",
      "./temples/052.html Exists: False\n",
      "./temples/053.html Exists: False\n"
     ]
    }
   ],
   "source": [
    "import os\n",
    "\n",
    "## Generate/regenerate html files for each folder in ./temple/photos\n",
    "\n",
    "for folder in os.listdir('./temples/photo/'):\n",
    "    path=\"./temples/\"+folder[0:3]+\".html\"\n",
    "    filecontent = \"--- \\n layout: temple_info \\n title:Temple No.\"+folder[0:3]+\" \\n category:temple \\n village_num: '\"+folder[0:3]+\"' \\n --- \\n {% include gallery.html %}\"\n",
    "    \n",
    "    ## Delete file if it already exists\n",
    "    print(path, \"Exists:\", os.path.isfile(path))\n",
    "    if os.path.isfile(path):\n",
    "        os.remove(path)\n",
    "        \n",
    "    f = open(path, \"w\")\n",
    "    f.write(filecontent)\n",
    "    f.close"
   ]
  }
 ],
 "metadata": {
  "kernelspec": {
   "display_name": "Python 3",
   "language": "python",
   "name": "python3"
  },
  "language_info": {
   "codemirror_mode": {
    "name": "ipython",
    "version": 3
   },
   "file_extension": ".py",
   "mimetype": "text/x-python",
   "name": "python",
   "nbconvert_exporter": "python",
   "pygments_lexer": "ipython3",
   "version": "3.7.7"
  }
 },
 "nbformat": 4,
 "nbformat_minor": 4
}
