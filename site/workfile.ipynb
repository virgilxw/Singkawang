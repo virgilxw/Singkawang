{
 "cells": [
  {
   "cell_type": "code",
   "execution_count": 4,
   "metadata": {},
   "outputs": [
    {
     "name": "stdout",
     "output_type": "stream",
     "text": [
      "./temples/001.html Exists: True\n",
      "./temples/002.html Exists: True\n",
      "./temples/003.html Exists: True\n",
      "./temples/004.html Exists: True\n",
      "./temples/005.html Exists: True\n",
      "./temples/006.html Exists: True\n",
      "./temples/007.html Exists: True\n",
      "./temples/008.html Exists: True\n",
      "./temples/009.html Exists: True\n",
      "./temples/010.html Exists: True\n",
      "./temples/011.html Exists: True\n",
      "./temples/012.html Exists: True\n",
      "./temples/013.html Exists: True\n",
      "./temples/014.html Exists: True\n",
      "./temples/015.html Exists: True\n",
      "./temples/016.html Exists: True\n",
      "./temples/017.html Exists: True\n",
      "./temples/018.html Exists: True\n",
      "./temples/019.html Exists: True\n",
      "./temples/020.html Exists: True\n",
      "./temples/021.html Exists: True\n",
      "./temples/022.html Exists: True\n",
      "./temples/023.html Exists: True\n",
      "./temples/024.html Exists: True\n",
      "./temples/025.html Exists: True\n",
      "./temples/026.html Exists: True\n",
      "./temples/027.html Exists: True\n",
      "./temples/028.html Exists: True\n",
      "./temples/029.html Exists: True\n",
      "./temples/030.html Exists: True\n",
      "./temples/031.html Exists: True\n",
      "./temples/032.html Exists: True\n",
      "./temples/033.html Exists: True\n",
      "./temples/034.html Exists: True\n",
      "./temples/035.html Exists: True\n",
      "./temples/036.html Exists: True\n",
      "./temples/037.html Exists: True\n",
      "./temples/038.html Exists: True\n",
      "./temples/039.html Exists: True\n",
      "./temples/040.html Exists: True\n",
      "./temples/041.html Exists: True\n",
      "./temples/042.html Exists: True\n",
      "./temples/043.html Exists: True\n",
      "./temples/044.html Exists: True\n",
      "./temples/045.html Exists: True\n",
      "./temples/046.html Exists: True\n",
      "./temples/047.html Exists: True\n",
      "./temples/048.html Exists: True\n",
      "./temples/049.html Exists: True\n",
      "./temples/050.html Exists: True\n",
      "./temples/051.html Exists: True\n",
      "./temples/052.html Exists: True\n",
      "./temples/053.html Exists: True\n"
     ]
    }
   ],
   "source": [
    "import os\n",
    "\n",
    "## Generate/regenerate html files for each folder in ./temple/photos\n",
    "\n",
    "for folder in os.listdir('./temples/photo/'):\n",
    "    path=\"./temples/\"+folder[0:3]+\".html\"\n",
    "    filecontent = \"--- \\nlayout: temple_info \\ntitle: Temple No.\"+folder[0:3]+\" \\nvillage_num: '\"+folder[0:3]+\"' \\n--- \\n{% include gallery.html %}\\n\"\n",
    "    \n",
    "    ## Delete file if it already exists\n",
    "    print(path, \"Exists:\", os.path.isfile(path))\n",
    "    if os.path.isfile(path):\n",
    "        os.remove(path)\n",
    "        \n",
    "    f = open(path, \"w\")\n",
    "    f.write(filecontent)\n",
    "    f.close"
   ]
  }
 ],
 "metadata": {
  "kernelspec": {
   "display_name": "Python 3",
   "language": "python",
   "name": "python3"
  },
  "language_info": {
   "codemirror_mode": {
    "name": "ipython",
    "version": 3
   },
   "file_extension": ".py",
   "mimetype": "text/x-python",
   "name": "python",
   "nbconvert_exporter": "python",
   "pygments_lexer": "ipython3",
   "version": "3.7.7"
  }
 },
 "nbformat": 4,
 "nbformat_minor": 4
}
